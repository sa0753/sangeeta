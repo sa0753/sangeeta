{
  "nbformat": 4,
  "nbformat_minor": 0,
  "metadata": {
    "colab": {
      "name": "In_class_exercise_01.ipynb",
      "provenance": [],
      "collapsed_sections": [],
      "include_colab_link": true
    },
    "kernelspec": {
      "name": "python3",
      "display_name": "Python 3"
    }
  },
  "cells": [
    {
      "cell_type": "markdown",
      "metadata": {
        "id": "view-in-github",
        "colab_type": "text"
      },
      "source": [
        "<a href=\"https://colab.research.google.com/github/sa0753/sangeeta/blob/master/In_class_exercise_01.ipynb\" target=\"_parent\"><img src=\"https://colab.research.google.com/assets/colab-badge.svg\" alt=\"Open In Colab\"/></a>"
      ]
    },
    {
      "cell_type": "markdown",
      "metadata": {
        "id": "DymRJbxDBCnf",
        "colab_type": "text"
      },
      "source": [
        "# **The first In-class-exercise**"
      ]
    },
    {
      "cell_type": "markdown",
      "metadata": {
        "id": "03jb4GZsBkBS",
        "colab_type": "text"
      },
      "source": [
        "(1) Write a Python program to calculate the length of a string."
      ]
    },
    {
      "cell_type": "code",
      "metadata": {
        "id": "YaGLbSHHB8Ej",
        "colab_type": "code",
        "outputId": "e81bf1cb-7794-47f7-ad38-0360fef00287",
        "colab": {
          "base_uri": "https://localhost:8080/",
          "height": 51
        }
      },
      "source": [
        "# write your answer here\n",
        "# Length of below string is 10 \n",
        "string = \"short\" \n",
        "print(len(string)) \n",
        "  \n",
        "# Length of below string is 20 \n",
        "string = \"medium\" \n",
        "print(len(string)) "
      ],
      "execution_count": 0,
      "outputs": [
        {
          "output_type": "stream",
          "text": [
            "5\n",
            "6\n"
          ],
          "name": "stdout"
        }
      ]
    },
    {
      "cell_type": "markdown",
      "metadata": {
        "id": "jJDe71iLB616",
        "colab_type": "text"
      },
      "source": [
        "(2) Write a Python program to count the number of characters in a string.\n",
        "\n",
        "Sample String : 'google.com‘, \n",
        "\n",
        "Expected Result : {'o': 3, 'g': 2, '.': 1, 'e': 1, 'l': 1, 'm': 1, 'c': 1}"
      ]
    },
    {
      "cell_type": "code",
      "metadata": {
        "id": "MtKskTzbCLaU",
        "colab_type": "code",
        "outputId": "555e1225-3bba-4555-f341-e2b6f0fc67e5",
        "colab": {
          "base_uri": "https://localhost:8080/",
          "height": 34
        }
      },
      "source": [
        "# write your answer here\n",
        "def char_frequency(str1):\n",
        "    dict = {}\n",
        "    for n in str1:\n",
        "        keys = dict.keys()\n",
        "        if n in keys:\n",
        "            dict[n] += 1\n",
        "        else:\n",
        "            dict[n] = 1\n",
        "    return dict\n",
        "print(char_frequency('google.com'))\n"
      ],
      "execution_count": 0,
      "outputs": [
        {
          "output_type": "stream",
          "text": [
            "{'g': 2, 'o': 3, 'l': 1, 'e': 1, '.': 1, 'c': 1, 'm': 1}\n"
          ],
          "name": "stdout"
        }
      ]
    },
    {
      "cell_type": "markdown",
      "metadata": {
        "id": "55W9AMdXCSpV",
        "colab_type": "text"
      },
      "source": [
        "(3) Write a Python program to sum all the items in a list"
      ]
    },
    {
      "cell_type": "code",
      "metadata": {
        "id": "cj7QiK2gHUek",
        "colab_type": "code",
        "outputId": "a1a56374-7480-48a6-82a1-0f87bb10ed3b",
        "colab": {
          "base_uri": "https://localhost:8080/",
          "height": 34
        }
      },
      "source": [
        "thislist = {\"red\",\"yellow\",\"green\"}\n",
        "print(thislist)\n"
      ],
      "execution_count": 0,
      "outputs": [
        {
          "output_type": "stream",
          "text": [
            "{'red', 'green', 'yellow'}\n"
          ],
          "name": "stdout"
        }
      ]
    },
    {
      "cell_type": "code",
      "metadata": {
        "id": "I57NXsauCec2",
        "colab_type": "code",
        "colab": {}
      },
      "source": [
        "# write your answer here\n"
      ],
      "execution_count": 0,
      "outputs": []
    },
    {
      "cell_type": "markdown",
      "metadata": {
        "id": "4ulBZ6yhCi9F",
        "colab_type": "text"
      },
      "source": [
        "(4) Write a Python program to get a string from a given string where all occurrences of its first char have been changed to '\\$', except the first char itself. \n",
        "\n",
        "Sample String : 'restart‘, \n",
        "\n",
        "Expected Result : 'resta\\$t'"
      ]
    },
    {
      "cell_type": "code",
      "metadata": {
        "id": "Fj0XhwbBCw2o",
        "colab_type": "code",
        "outputId": "34bcb1d3-77a0-4a3e-bbb7-46429698b69d",
        "colab": {
          "base_uri": "https://localhost:8080/",
          "height": 34
        }
      },
      "source": [
        "# write your answer here\n",
        "def change_char(str1):\n",
        "  char = str1[0]\n",
        "  str1 = str1.replace(char, '$')\n",
        "  str1 = char + str1[1:]\n",
        "\n",
        "  return str1\n",
        "\n",
        "print(change_char('restart'))"
      ],
      "execution_count": 0,
      "outputs": [
        {
          "output_type": "stream",
          "text": [
            "resta$t\n"
          ],
          "name": "stdout"
        }
      ]
    },
    {
      "cell_type": "markdown",
      "metadata": {
        "id": "_bIP7s1MCzue",
        "colab_type": "text"
      },
      "source": [
        "(5) Write a program with python which could accept two parameter a and b to calculate and output the result of S, where \n",
        "\n",
        "$\\ S=3.14*(1+a/b)^3$\n",
        "\n"
      ]
    },
    {
      "cell_type": "code",
      "metadata": {
        "id": "w79QilHXD3Mg",
        "colab_type": "code",
        "colab": {}
      },
      "source": [
        "# write your answer here\n"
      ],
      "execution_count": 0,
      "outputs": []
    },
    {
      "cell_type": "markdown",
      "metadata": {
        "id": "xCa2bK9aD4Q3",
        "colab_type": "text"
      },
      "source": [
        "(6) Write a Python program to concatenate following dictionaries to create a new one. \n",
        "\n",
        "Sample Dictionary : dic1={1:10, 2:20}, dic2={3:30, 4:40}, dic3={5:50,6:60}, \n",
        "\n",
        "Expected Result : {1: 10, 2: 20, 3: 30, 4: 40, 5: 50, 6: 60}\n"
      ]
    },
    {
      "cell_type": "code",
      "metadata": {
        "id": "_z4aLqAbEET1",
        "colab_type": "code",
        "outputId": "ec8985d5-b33e-42c2-ff7b-a938db21ec32",
        "colab": {
          "base_uri": "https://localhost:8080/",
          "height": 34
        }
      },
      "source": [
        "# write your answer here\n",
        "dic1={1:10, 2:20}\n",
        "dic2={3:30, 4:40}\n",
        "dic3={5:50,6:60}\n",
        "dic4 = {}\n",
        "for d in (dic1, dic2, dic3): dic4.update(d)\n",
        "print(dic4)"
      ],
      "execution_count": 0,
      "outputs": [
        {
          "output_type": "stream",
          "text": [
            "{1: 10, 2: 20, 3: 30, 4: 40, 5: 50, 6: 60}\n"
          ],
          "name": "stdout"
        }
      ]
    },
    {
      "cell_type": "markdown",
      "metadata": {
        "id": "0v48Vqa7FrQh",
        "colab_type": "text"
      },
      "source": [
        "(7) Write a Python program to check whether an element exists within a tuple."
      ]
    },
    {
      "cell_type": "code",
      "metadata": {
        "id": "qPYETNTDJTjF",
        "colab_type": "code",
        "outputId": "73549902-c163-42b0-b3df-3f348cafbd32",
        "colab": {
          "base_uri": "https://localhost:8080/",
          "height": 51
        }
      },
      "source": [
        "thistuple = (\"lol\",\"smile\",\"angry\",\"sad\",\"excited\",\"worried\")\n",
        "print (\"sad\")\n",
        "print (\"angry\") "
      ],
      "execution_count": 0,
      "outputs": [
        {
          "output_type": "stream",
          "text": [
            "sad\n",
            "angry\n"
          ],
          "name": "stdout"
        }
      ]
    },
    {
      "cell_type": "markdown",
      "metadata": {
        "id": "vD5PYLMuGga_",
        "colab_type": "text"
      },
      "source": [
        "(8) Write a Python program to find maximum and the minimum value in a set. "
      ]
    },
    {
      "cell_type": "code",
      "metadata": {
        "id": "t0D5kdJUGjjw",
        "colab_type": "code",
        "outputId": "4c09a14b-0c16-4366-cd07-d3b32895c3a3",
        "colab": {
          "base_uri": "https://localhost:8080/",
          "height": 51
        }
      },
      "source": [
        "# write your answer here\n",
        "thisset = {\"10\",\"20\",\"30\",\"40\",\"50\",\"60\",\"70\"}\n",
        "print (max(thisset))\n",
        "print (min(thisset))"
      ],
      "execution_count": 0,
      "outputs": [
        {
          "output_type": "stream",
          "text": [
            "70\n",
            "10\n"
          ],
          "name": "stdout"
        }
      ]
    },
    {
      "cell_type": "markdown",
      "metadata": {
        "id": "uHkd-y5VhVWC",
        "colab_type": "text"
      },
      "source": [
        "(9) Write a Python program to randomly divide the students in this class into four groups for term projects. Here is the students list:\n",
        "\n",
        "studnet_list = ['sa0753','laa0240','lba0043','pb0283','vmb0067','vcd0017','ag1121','lg0426','mj0396','ak0860','vk0222','vk0216',\n",
        "                'tpk0023','nk0327','mk0830','tbl0041','al0787','am1823','sm1515','km0738','hn0139','an0521','ap0975','dp1080',\n",
        "                'pk0292','vp0241','rp0477','hr0178','ps0501','ss1976','ss1872','ss1872','bs0490','pt0218','ry0104']"
      ]
    },
    {
      "cell_type": "code",
      "metadata": {
        "id": "7WEmgq-DF2P1",
        "colab_type": "code",
        "outputId": "4c1f106d-9397-49f7-dc1c-ae6d580795ba",
        "colab": {
          "base_uri": "https://localhost:8080/",
          "height": 129
        }
      },
      "source": [
        "# write your answer here\n",
        "import random\n",
        "student = ['sa0753','laa0240','lba0043','pb0283','vmb0067','vcd0017','ag1121','lg0426','mj0396','ak0860','vk0222','vk0216', 'tpk0023','nk0327','mk0830','tbl0041','al0787','am1823','sm1515','km0738','hn0139','an0521','ap0975','dp1080',\n",
        "        'pk0292','vp0241','rp0477','hr0178','ps0501','ss1976','ss1872','ss1872','bs0490','pt0218','ry0104']\n",
        "sampling = random.choices(list, k=6)\n",
        "print(\"Randomly selected multiple options using random choices())\",\n",
        "      sampling)"
      ],
      "execution_count": 0,
      "outputs": [
        {
          "output_type": "error",
          "ename": "SyntaxError",
          "evalue": "ignored",
          "traceback": [
            "\u001b[0;36m  File \u001b[0;32m\"<ipython-input-21-6177eecb022f>\"\u001b[0;36m, line \u001b[0;32m3\u001b[0m\n\u001b[0;31m    sampling = random choices(list, k=6)\u001b[0m\n\u001b[0m                            ^\u001b[0m\n\u001b[0;31mSyntaxError\u001b[0m\u001b[0;31m:\u001b[0m invalid syntax\n"
          ]
        }
      ]
    },
    {
      "cell_type": "code",
      "metadata": {
        "id": "yB49IMQQPA_L",
        "colab_type": "code",
        "outputId": "5a056ecb-0537-44ed-f957-2c51c89d3d16",
        "colab": {
          "base_uri": "https://localhost:8080/",
          "height": 71
        }
      },
      "source": [
        "import random\n",
        "student = ['sa0753','laa0240','lba0043','pb0283','vmb0067','vcd0017','ag1121','lg0426','mj0396','ak0860','vk0222','vk0216', 'tpk0023','nk0327','mk0830','tbl0041','al0787','am1823','sm1515','km0738','hn0139','an0521','ap0975','dp1080',\n",
        "        'pk0292','vp0241','rp0477','hr0178','ps0501','ss1976','ss1872','ss1872','bs0490','pt0218','ry0104']\n",
        "print(student)\n",
        "sampling = random.choices(student, k=6)\n",
        "print(sampling)"
      ],
      "execution_count": 0,
      "outputs": [
        {
          "output_type": "stream",
          "text": [
            "['sa0753', 'laa0240', 'lba0043', 'pb0283', 'vmb0067', 'vcd0017', 'ag1121', 'lg0426', 'mj0396', 'ak0860', 'vk0222', 'vk0216', 'tpk0023', 'nk0327', 'mk0830', 'tbl0041', 'al0787', 'am1823', 'sm1515', 'km0738', 'hn0139', 'an0521', 'ap0975', 'dp1080', 'pk0292', 'vp0241', 'rp0477', 'hr0178', 'ps0501', 'ss1976', 'ss1872', 'ss1872', 'bs0490', 'pt0218', 'ry0104']\n",
            "['mj0396', 'ss1976', 'vp0241', 'ss1872', 'ap0975', 'tpk0023']\n"
          ],
          "name": "stdout"
        }
      ]
    }
  ]
}